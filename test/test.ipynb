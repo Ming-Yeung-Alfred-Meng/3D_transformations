{
 "cells": [
  {
   "cell_type": "code",
   "execution_count": 1,
   "id": "initial_id",
   "metadata": {
    "collapsed": true,
    "ExecuteTime": {
     "end_time": "2023-09-30T17:38:48.363226Z",
     "start_time": "2023-09-30T17:38:41.810647Z"
    }
   },
   "outputs": [
    {
     "name": "stdout",
     "output_type": "stream",
     "text": [
      "pygame 2.5.2 (SDL 2.28.3, Python 3.11.5)\n",
      "Hello from the pygame community. https://www.pygame.org/contribute.html\n"
     ]
    }
   ],
   "source": [
    "import numpy as np\n",
    "import pygame\n",
    "import importlib\n",
    "import src.simulation as sim\n",
    "import src.transformations as t\n",
    "import src.change_of_coordinates as coc"
   ]
  },
  {
   "cell_type": "code",
   "execution_count": 2,
   "outputs": [
    {
     "data": {
      "text/plain": "<module 'src.simulation' from '/Users/alfred/Documents/affine_transformations/src/simulation.py'>"
     },
     "execution_count": 2,
     "metadata": {},
     "output_type": "execute_result"
    }
   ],
   "source": [
    "importlib.reload(sim)"
   ],
   "metadata": {
    "collapsed": false,
    "ExecuteTime": {
     "end_time": "2023-09-30T17:38:48.412078Z",
     "start_time": "2023-09-30T17:38:48.205701Z"
    }
   },
   "id": "f669a781f5369edd"
  },
  {
   "cell_type": "code",
   "execution_count": 3,
   "outputs": [
    {
     "data": {
      "text/plain": "<module 'src.transformations' from '/Users/alfred/Documents/affine_transformations/src/transformations.py'>"
     },
     "execution_count": 3,
     "metadata": {},
     "output_type": "execute_result"
    }
   ],
   "source": [
    "importlib.reload(t)"
   ],
   "metadata": {
    "collapsed": false,
    "ExecuteTime": {
     "end_time": "2023-09-30T17:38:48.502424Z",
     "start_time": "2023-09-30T17:38:48.236051Z"
    }
   },
   "id": "18b2f56bf29439f3"
  },
  {
   "cell_type": "code",
   "execution_count": 4,
   "outputs": [
    {
     "data": {
      "text/plain": "<module 'src.change_of_coordinates' from '/Users/alfred/Documents/affine_transformations/src/change_of_coordinates.py'>"
     },
     "execution_count": 4,
     "metadata": {},
     "output_type": "execute_result"
    }
   ],
   "source": [
    "importlib.reload(coc)"
   ],
   "metadata": {
    "collapsed": false,
    "ExecuteTime": {
     "end_time": "2023-09-30T17:38:48.504881Z",
     "start_time": "2023-09-30T17:38:48.256166Z"
    }
   },
   "id": "129761a6ea17f9be"
  },
  {
   "cell_type": "code",
   "execution_count": 5,
   "outputs": [],
   "source": [
    "def render(screen, vertices, faces, screen_height, camera_location):\n",
    "    screen.fill((255, 255, 255))\n",
    "\n",
    "    sim.draw_wireframe(screen, sim.perspective_projection(camera_location, vertices), faces, screen_height)\n",
    "    \n",
    "    pygame.display.update()"
   ],
   "metadata": {
    "collapsed": false,
    "ExecuteTime": {
     "end_time": "2023-09-30T17:38:48.549216Z",
     "start_time": "2023-09-30T17:38:48.288547Z"
    }
   },
   "id": "fadb550b71c6182a"
  },
  {
   "cell_type": "code",
   "execution_count": 6,
   "outputs": [],
   "source": [
    "screen_width = 800\n",
    "screen_height = 800\n",
    "center = np.array([400., 400., 400.])\n",
    "camera_location = np.array([400., 400., -100.])"
   ],
   "metadata": {
    "collapsed": false,
    "ExecuteTime": {
     "end_time": "2023-09-30T17:38:48.943343Z",
     "start_time": "2023-09-30T17:38:48.312418Z"
    }
   },
   "id": "3ba4cbbb0ed9d25b"
  },
  {
   "cell_type": "code",
   "execution_count": 7,
   "outputs": [
    {
     "data": {
      "text/plain": "(array([[450., 450., 450.],\n        [450., 450., 350.],\n        [350., 450., 450.],\n        [350., 450., 350.],\n        [450., 350., 450.],\n        [450., 350., 350.],\n        [350., 350., 450.],\n        [350., 350., 350.]]),\n array([[0, 4, 6, 2],\n        [1, 3, 7, 5],\n        [0, 2, 3, 1],\n        [0, 1, 5, 4],\n        [1, 3, 7, 5],\n        [2, 6, 7, 3]]))"
     },
     "execution_count": 7,
     "metadata": {},
     "output_type": "execute_result"
    }
   ],
   "source": [
    "vertices, faces = sim.init_cuboid(center, 50, 50, 50)\n",
    "vertices, faces"
   ],
   "metadata": {
    "collapsed": false,
    "ExecuteTime": {
     "end_time": "2023-09-30T17:38:48.946522Z",
     "start_time": "2023-09-30T17:38:48.345114Z"
    }
   },
   "id": "2521485a7e6bbb38"
  },
  {
   "cell_type": "code",
   "execution_count": 8,
   "outputs": [],
   "source": [
    "pygame.init()\n",
    "\n",
    "screen = pygame.display.set_mode((screen_width, screen_height))\n",
    "render(screen, vertices, faces, screen_height, camera_location)"
   ],
   "metadata": {
    "collapsed": false,
    "ExecuteTime": {
     "end_time": "2023-09-30T17:38:49.822912Z",
     "start_time": "2023-09-30T17:38:48.358116Z"
    }
   },
   "id": "9e70c0655305e162"
  },
  {
   "cell_type": "markdown",
   "source": [
    "**Translation**"
   ],
   "metadata": {
    "collapsed": false
   },
   "id": "617132eee830528"
  },
  {
   "cell_type": "code",
   "execution_count": 9,
   "outputs": [
    {
     "data": {
      "text/plain": "(array([[550., 450., 450.],\n        [550., 450., 350.],\n        [450., 450., 450.],\n        [450., 450., 350.],\n        [550., 350., 450.],\n        [550., 350., 350.],\n        [450., 350., 450.],\n        [450., 350., 350.]]),\n array([500., 400., 400.]))"
     },
     "execution_count": 9,
     "metadata": {},
     "output_type": "execute_result"
    }
   ],
   "source": [
    "t.translation(center, vertices, 100, 0)\n",
    "render(screen, vertices, faces, screen_height, camera_location)\n",
    "vertices, center"
   ],
   "metadata": {
    "collapsed": false,
    "ExecuteTime": {
     "end_time": "2023-09-30T17:38:49.972118Z",
     "start_time": "2023-09-30T17:38:49.773250Z"
    }
   },
   "id": "ff1d3e034cc02a3b"
  },
  {
   "cell_type": "code",
   "execution_count": 10,
   "outputs": [
    {
     "data": {
      "text/plain": "(array([[550., 550., 450.],\n        [550., 550., 350.],\n        [450., 550., 450.],\n        [450., 550., 350.],\n        [550., 450., 450.],\n        [550., 450., 350.],\n        [450., 450., 450.],\n        [450., 450., 350.]]),\n array([500., 500., 400.]))"
     },
     "execution_count": 10,
     "metadata": {},
     "output_type": "execute_result"
    }
   ],
   "source": [
    "t.translation(center, vertices, 100, 1)\n",
    "render(screen, vertices, faces, screen_height, camera_location)\n",
    "vertices, center"
   ],
   "metadata": {
    "collapsed": false,
    "ExecuteTime": {
     "end_time": "2023-09-30T17:38:49.974176Z",
     "start_time": "2023-09-30T17:38:49.800306Z"
    }
   },
   "id": "48b95db74c1d56e3"
  },
  {
   "cell_type": "code",
   "execution_count": 11,
   "outputs": [
    {
     "data": {
      "text/plain": "(array([[550., 550., 350.],\n        [550., 550., 250.],\n        [450., 550., 350.],\n        [450., 550., 250.],\n        [550., 450., 350.],\n        [550., 450., 250.],\n        [450., 450., 350.],\n        [450., 450., 250.]]),\n array([500., 500., 300.]))"
     },
     "execution_count": 11,
     "metadata": {},
     "output_type": "execute_result"
    }
   ],
   "source": [
    "t.translation(center, vertices, -100, 2)\n",
    "render(screen, vertices, faces, screen_height, camera_location)\n",
    "vertices, center"
   ],
   "metadata": {
    "collapsed": false,
    "ExecuteTime": {
     "end_time": "2023-09-30T17:38:50.261165Z",
     "start_time": "2023-09-30T17:38:49.817904Z"
    }
   },
   "id": "e4665da3ef66cd98"
  },
  {
   "cell_type": "markdown",
   "source": [
    "**Uniform Scale**"
   ],
   "metadata": {
    "collapsed": false
   },
   "id": "c00b4041dcba5d02"
  },
  {
   "cell_type": "code",
   "execution_count": 12,
   "outputs": [
    {
     "data": {
      "text/plain": "(array([[600., 600., 400.],\n        [600., 600., 200.],\n        [400., 600., 400.],\n        [400., 600., 200.],\n        [600., 400., 400.],\n        [600., 400., 200.],\n        [400., 400., 400.],\n        [400., 400., 200.]]),\n array([500., 500., 300.]))"
     },
     "execution_count": 12,
     "metadata": {},
     "output_type": "execute_result"
    }
   ],
   "source": [
    "t.uniform_scale(center, vertices, 2)\n",
    "render(screen, vertices, faces, screen_height, camera_location)\n",
    "vertices, center"
   ],
   "metadata": {
    "collapsed": false,
    "ExecuteTime": {
     "end_time": "2023-09-30T17:38:50.643934Z",
     "start_time": "2023-09-30T17:38:49.840148Z"
    }
   },
   "id": "256ec623f78bff"
  },
  {
   "cell_type": "code",
   "execution_count": 13,
   "outputs": [
    {
     "data": {
      "text/plain": "(array([[550., 550., 350.],\n        [550., 550., 250.],\n        [450., 550., 350.],\n        [450., 550., 250.],\n        [550., 450., 350.],\n        [550., 450., 250.],\n        [450., 450., 350.],\n        [450., 450., 250.]]),\n array([500., 500., 300.]))"
     },
     "execution_count": 13,
     "metadata": {},
     "output_type": "execute_result"
    }
   ],
   "source": [
    "t.uniform_scale(center, vertices, 0.5)\n",
    "render(screen, vertices, faces, screen_height, camera_location)\n",
    "vertices, center"
   ],
   "metadata": {
    "collapsed": false,
    "ExecuteTime": {
     "end_time": "2023-09-30T17:38:50.851955Z",
     "start_time": "2023-09-30T17:38:49.856855Z"
    }
   },
   "id": "4d9e4ee6398286a1"
  },
  {
   "cell_type": "markdown",
   "source": [
    "**Rotation**"
   ],
   "metadata": {
    "collapsed": false
   },
   "id": "f244134c6765387"
  },
  {
   "cell_type": "code",
   "execution_count": 14,
   "outputs": [
    {
     "data": {
      "text/plain": "(array([[532.1019761 , 550.        , 363.00367553],\n        [563.00367553, 550.        , 267.8980239 ],\n        [436.99632447, 550.        , 332.1019761 ],\n        [467.8980239 , 550.        , 236.99632447],\n        [532.1019761 , 450.        , 363.00367553],\n        [563.00367553, 450.        , 267.8980239 ],\n        [436.99632447, 450.        , 332.1019761 ],\n        [467.8980239 , 450.        , 236.99632447]]),\n array([500., 500., 300.]))"
     },
     "execution_count": 14,
     "metadata": {},
     "output_type": "execute_result"
    }
   ],
   "source": [
    "t.rotation_about_y(center, vertices, np.pi / 10)\n",
    "render(screen, vertices, faces, screen_height, camera_location)\n",
    "vertices, center"
   ],
   "metadata": {
    "collapsed": false,
    "ExecuteTime": {
     "end_time": "2023-09-30T17:38:50.854056Z",
     "start_time": "2023-09-30T17:38:49.866368Z"
    }
   },
   "id": "25497296cd11a1ae"
  },
  {
   "cell_type": "code",
   "execution_count": 15,
   "outputs": [
    {
     "data": {
      "text/plain": "(array([[521.85080122, 550.        , 367.2498512 ],\n        [567.2498512 , 550.        , 278.14919878],\n        [432.7501488 , 550.        , 321.85080122],\n        [478.14919878, 550.        , 232.7501488 ],\n        [521.85080122, 450.        , 367.2498512 ],\n        [567.2498512 , 450.        , 278.14919878],\n        [432.7501488 , 450.        , 321.85080122],\n        [478.14919878, 450.        , 232.7501488 ]]),\n array([500., 500., 300.]))"
     },
     "execution_count": 15,
     "metadata": {},
     "output_type": "execute_result"
    }
   ],
   "source": [
    "t.rotation_about_y(center, vertices, np.pi / 20)\n",
    "render(screen, vertices, faces, screen_height, camera_location)\n",
    "vertices, center"
   ],
   "metadata": {
    "collapsed": false,
    "ExecuteTime": {
     "end_time": "2023-09-30T17:38:50.856088Z",
     "start_time": "2023-09-30T17:38:49.881203Z"
    }
   },
   "id": "af725e64d1818fe3"
  },
  {
   "cell_type": "code",
   "execution_count": 16,
   "outputs": [
    {
     "data": {
      "text/plain": "(array([[507.39127852, 550.        , 370.32331763],\n        [570.32331763, 550.        , 292.60872148],\n        [429.67668237, 550.        , 307.39127852],\n        [492.60872148, 550.        , 229.67668237],\n        [507.39127852, 450.        , 370.32331763],\n        [570.32331763, 450.        , 292.60872148],\n        [429.67668237, 450.        , 307.39127852],\n        [492.60872148, 450.        , 229.67668237]]),\n array([500., 500., 300.]))"
     },
     "execution_count": 16,
     "metadata": {},
     "output_type": "execute_result"
    }
   ],
   "source": [
    "t.rotation_about_y(center, vertices, np.pi / 15)\n",
    "render(screen, vertices, faces, screen_height, camera_location)\n",
    "vertices, center"
   ],
   "metadata": {
    "collapsed": false,
    "ExecuteTime": {
     "end_time": "2023-09-30T17:38:50.874799Z",
     "start_time": "2023-09-30T17:38:49.896415Z"
    }
   },
   "id": "8e89512316b31b15"
  },
  {
   "cell_type": "code",
   "execution_count": 17,
   "outputs": [
    {
     "data": {
      "text/plain": "(array([[528.76062385, 550.        , 364.5974188 ],\n        [564.5974188 , 550.        , 271.23937615],\n        [435.4025812 , 550.        , 328.76062385],\n        [471.23937615, 550.        , 235.4025812 ],\n        [528.76062385, 450.        , 364.5974188 ],\n        [564.5974188 , 450.        , 271.23937615],\n        [435.4025812 , 450.        , 328.76062385],\n        [471.23937615, 450.        , 235.4025812 ]]),\n array([500., 500., 300.]))"
     },
     "execution_count": 17,
     "metadata": {},
     "output_type": "execute_result"
    }
   ],
   "source": [
    "t.rotation_about_y(center, vertices, - np.pi / 10)\n",
    "render(screen, vertices, faces, screen_height, camera_location)\n",
    "vertices, center"
   ],
   "metadata": {
    "collapsed": false,
    "ExecuteTime": {
     "end_time": "2023-09-30T17:38:51.023720Z",
     "start_time": "2023-09-30T17:38:49.919825Z"
    }
   },
   "id": "6f7c770a4d973fc6"
  },
  {
   "cell_type": "code",
   "execution_count": 18,
   "outputs": [
    {
     "data": {
      "text/plain": "(array([[547.31467893, 550.        , 352.54827455],\n        [552.54827455, 550.        , 252.68532107],\n        [447.45172545, 550.        , 347.31467893],\n        [452.68532107, 550.        , 247.45172545],\n        [547.31467893, 450.        , 352.54827455],\n        [552.54827455, 450.        , 252.68532107],\n        [447.45172545, 450.        , 347.31467893],\n        [452.68532107, 450.        , 247.45172545]]),\n array([500., 500., 300.]))"
     },
     "execution_count": 18,
     "metadata": {},
     "output_type": "execute_result"
    }
   ],
   "source": [
    "t.rotation_about_y(center, vertices, - np.pi / 10)\n",
    "render(screen, vertices, faces, screen_height, camera_location)\n",
    "vertices, center"
   ],
   "metadata": {
    "collapsed": false,
    "ExecuteTime": {
     "end_time": "2023-09-30T17:38:51.088274Z",
     "start_time": "2023-09-30T17:38:49.937194Z"
    }
   },
   "id": "5ed68a542dcf0020"
  },
  {
   "cell_type": "code",
   "execution_count": 22,
   "outputs": [
    {
     "data": {
      "text/plain": "(array([[568.81694107, 498.29487151, 352.54827455],\n        [572.31890009, 494.405552  , 252.68532107],\n        [501.99558246, 572.50750864, 347.31467893],\n        [505.49754147, 568.61818913, 247.45172545],\n        [494.50245853, 431.38181087, 352.54827455],\n        [498.00441754, 427.49249136, 252.68532107],\n        [427.68109991, 505.594448  , 347.31467893],\n        [431.18305893, 501.70512849, 247.45172545]]),\n array([500., 500., 300.]))"
     },
     "execution_count": 22,
     "metadata": {},
     "output_type": "execute_result"
    }
   ],
   "source": [
    "t.rotation_about_z(center, vertices, np.pi / 15)\n",
    "render(screen, vertices, faces, screen_height, camera_location)\n",
    "vertices, center"
   ],
   "metadata": {
    "collapsed": false,
    "ExecuteTime": {
     "end_time": "2023-09-30T17:40:05.940966Z",
     "start_time": "2023-09-30T17:40:05.655493Z"
    }
   },
   "id": "82fa91778e3c13be"
  },
  {
   "cell_type": "code",
   "execution_count": 27,
   "outputs": [
    {
     "data": {
      "text/plain": "(array([[568.81694107, 544.65557644, 327.75082187],\n        [572.31890009, 456.22706208, 281.18759463],\n        [501.99558246, 577.22946824, 260.86399502],\n        [505.49754147, 488.80095388, 214.30076778],\n        [494.50245853, 511.19904612, 385.69923222],\n        [498.00441754, 422.77053176, 339.13600498],\n        [427.68109991, 543.77293792, 318.81240537],\n        [431.18305893, 455.34442356, 272.24917813]]),\n array([500., 500., 300.]))"
     },
     "execution_count": 27,
     "metadata": {},
     "output_type": "execute_result"
    }
   ],
   "source": [
    "t.rotation_about_x(center, vertices, np.pi / 15)\n",
    "render(screen, vertices, faces, screen_height, camera_location)\n",
    "vertices, center"
   ],
   "metadata": {
    "collapsed": false,
    "ExecuteTime": {
     "end_time": "2023-09-30T17:40:54.967895Z",
     "start_time": "2023-09-30T17:40:54.872552Z"
    }
   },
   "id": "4be3d573e76f5ad5"
  },
  {
   "cell_type": "code",
   "execution_count": null,
   "outputs": [],
   "source": [],
   "metadata": {
    "collapsed": false
   },
   "id": "3df2787c9a63be81"
  }
 ],
 "metadata": {
  "kernelspec": {
   "display_name": "Python 3",
   "language": "python",
   "name": "python3"
  },
  "language_info": {
   "codemirror_mode": {
    "name": "ipython",
    "version": 2
   },
   "file_extension": ".py",
   "mimetype": "text/x-python",
   "name": "python",
   "nbconvert_exporter": "python",
   "pygments_lexer": "ipython2",
   "version": "2.7.6"
  }
 },
 "nbformat": 4,
 "nbformat_minor": 5
}
