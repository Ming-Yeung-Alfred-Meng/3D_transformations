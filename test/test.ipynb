{
 "cells": [
  {
   "cell_type": "code",
   "execution_count": 97,
   "id": "initial_id",
   "metadata": {
    "collapsed": true,
    "ExecuteTime": {
     "end_time": "2023-09-30T03:57:30.939609Z",
     "start_time": "2023-09-30T03:57:30.909744Z"
    }
   },
   "outputs": [],
   "source": [
    "import numpy as np\n",
    "import pygame\n",
    "import importlib\n",
    "import src.simulation as sim\n",
    "import src.transformations as t\n",
    "import src.change_of_coordinates as coc"
   ]
  },
  {
   "cell_type": "code",
   "execution_count": 81,
   "outputs": [
    {
     "data": {
      "text/plain": "<module 'src.simulation' from '/Users/alfred/Documents/affine_transformations/src/simulation.py'>"
     },
     "execution_count": 81,
     "metadata": {},
     "output_type": "execute_result"
    }
   ],
   "source": [
    "importlib.reload(sim)"
   ],
   "metadata": {
    "collapsed": false,
    "ExecuteTime": {
     "end_time": "2023-09-30T03:49:20.991277Z",
     "start_time": "2023-09-30T03:49:20.965427Z"
    }
   },
   "id": "f669a781f5369edd"
  },
  {
   "cell_type": "code",
   "execution_count": 82,
   "outputs": [
    {
     "data": {
      "text/plain": "<module 'src.transformations' from '/Users/alfred/Documents/affine_transformations/src/transformations.py'>"
     },
     "execution_count": 82,
     "metadata": {},
     "output_type": "execute_result"
    }
   ],
   "source": [
    "importlib.reload(t)"
   ],
   "metadata": {
    "collapsed": false,
    "ExecuteTime": {
     "end_time": "2023-09-30T03:49:21.531501Z",
     "start_time": "2023-09-30T03:49:21.504627Z"
    }
   },
   "id": "18b2f56bf29439f3"
  },
  {
   "cell_type": "code",
   "execution_count": 98,
   "outputs": [
    {
     "data": {
      "text/plain": "<module 'src.change_of_coordinates' from '/Users/alfred/Documents/affine_transformations/src/change_of_coordinates.py'>"
     },
     "execution_count": 98,
     "metadata": {},
     "output_type": "execute_result"
    }
   ],
   "source": [
    "importlib.reload(coc)"
   ],
   "metadata": {
    "collapsed": false,
    "ExecuteTime": {
     "end_time": "2023-09-30T03:57:40.177544Z",
     "start_time": "2023-09-30T03:57:40.155387Z"
    }
   },
   "id": "129761a6ea17f9be"
  },
  {
   "cell_type": "code",
   "execution_count": 83,
   "outputs": [],
   "source": [
    "def render(screen, vertices, faces, screen_height, camera_location):\n",
    "    screen.fill((255, 255, 255))\n",
    "\n",
    "    sim.draw_wireframe(screen, sim.perspective_projection(camera_location, vertices), faces, screen_height)\n",
    "    \n",
    "    pygame.display.update()"
   ],
   "metadata": {
    "collapsed": false,
    "ExecuteTime": {
     "end_time": "2023-09-30T03:49:23.177527Z",
     "start_time": "2023-09-30T03:49:23.145397Z"
    }
   },
   "id": "fadb550b71c6182a"
  },
  {
   "cell_type": "code",
   "execution_count": 105,
   "outputs": [],
   "source": [
    "screen_width = 800\n",
    "screen_height = 800\n",
    "center = np.array([400., 400., 400.])\n",
    "camera_location = np.array([400., 400., -100.])"
   ],
   "metadata": {
    "collapsed": false,
    "ExecuteTime": {
     "end_time": "2023-09-30T04:05:07.062341Z",
     "start_time": "2023-09-30T04:05:07.043224Z"
    }
   },
   "id": "3ba4cbbb0ed9d25b"
  },
  {
   "cell_type": "code",
   "execution_count": 106,
   "outputs": [
    {
     "data": {
      "text/plain": "(array([[450., 450., 450.],\n        [450., 450., 350.],\n        [350., 450., 450.],\n        [350., 450., 350.],\n        [450., 350., 450.],\n        [450., 350., 350.],\n        [350., 350., 450.],\n        [350., 350., 350.]]),\n array([[0, 4, 6, 2],\n        [1, 3, 7, 5],\n        [0, 2, 3, 1],\n        [0, 1, 5, 4],\n        [1, 3, 7, 5],\n        [2, 6, 7, 3]]))"
     },
     "execution_count": 106,
     "metadata": {},
     "output_type": "execute_result"
    }
   ],
   "source": [
    "vertices, faces = sim.init_cuboid(center, 50, 50, 50)\n",
    "vertices, faces"
   ],
   "metadata": {
    "collapsed": false,
    "ExecuteTime": {
     "end_time": "2023-09-30T04:05:15.091477Z",
     "start_time": "2023-09-30T04:05:15.067041Z"
    }
   },
   "id": "2521485a7e6bbb38"
  },
  {
   "cell_type": "code",
   "execution_count": 107,
   "outputs": [],
   "source": [
    "pygame.init()\n",
    "\n",
    "screen = pygame.display.set_mode((screen_width, screen_height))\n",
    "render(screen, vertices, faces, screen_height, camera_location)"
   ],
   "metadata": {
    "collapsed": false,
    "ExecuteTime": {
     "end_time": "2023-09-30T04:05:16.131955Z",
     "start_time": "2023-09-30T04:05:16.023153Z"
    }
   },
   "id": "9e70c0655305e162"
  },
  {
   "cell_type": "markdown",
   "source": [
    "**Translation**"
   ],
   "metadata": {
    "collapsed": false
   },
   "id": "617132eee830528"
  },
  {
   "cell_type": "code",
   "execution_count": 108,
   "outputs": [
    {
     "data": {
      "text/plain": "(array([[550., 450., 450.],\n        [550., 450., 350.],\n        [450., 450., 450.],\n        [450., 450., 350.],\n        [550., 350., 450.],\n        [550., 350., 350.],\n        [450., 350., 450.],\n        [450., 350., 350.]]),\n array([500., 400., 400.]))"
     },
     "execution_count": 108,
     "metadata": {},
     "output_type": "execute_result"
    }
   ],
   "source": [
    "t.translation(center, vertices, 100, 0)\n",
    "render(screen, vertices, faces, screen_height, camera_location)\n",
    "vertices, center"
   ],
   "metadata": {
    "collapsed": false,
    "ExecuteTime": {
     "end_time": "2023-09-30T04:05:17.474058Z",
     "start_time": "2023-09-30T04:05:17.448622Z"
    }
   },
   "id": "ff1d3e034cc02a3b"
  },
  {
   "cell_type": "code",
   "execution_count": 114,
   "outputs": [
    {
     "data": {
      "text/plain": "(array([[550., 550., 450.],\n        [550., 550., 350.],\n        [450., 550., 450.],\n        [450., 550., 350.],\n        [550., 450., 450.],\n        [550., 450., 350.],\n        [450., 450., 450.],\n        [450., 450., 350.]]),\n array([500., 500., 400.]))"
     },
     "execution_count": 114,
     "metadata": {},
     "output_type": "execute_result"
    }
   ],
   "source": [
    "t.translation(center, vertices, 100, 1)\n",
    "render(screen, vertices, faces, screen_height, camera_location)\n",
    "vertices, center"
   ],
   "metadata": {
    "collapsed": false,
    "ExecuteTime": {
     "end_time": "2023-09-30T04:06:08.390549Z",
     "start_time": "2023-09-30T04:06:08.375156Z"
    }
   },
   "id": "48b95db74c1d56e3"
  },
  {
   "cell_type": "code",
   "execution_count": 116,
   "outputs": [
    {
     "data": {
      "text/plain": "(array([[550., 550., 250.],\n        [550., 550., 150.],\n        [450., 550., 250.],\n        [450., 550., 150.],\n        [550., 450., 250.],\n        [550., 450., 150.],\n        [450., 450., 250.],\n        [450., 450., 150.]]),\n array([500., 500., 200.]))"
     },
     "execution_count": 116,
     "metadata": {},
     "output_type": "execute_result"
    }
   ],
   "source": [
    "t.translation(center, vertices, -100, 2)\n",
    "render(screen, vertices, faces, screen_height, camera_location)\n",
    "vertices, center"
   ],
   "metadata": {
    "collapsed": false,
    "ExecuteTime": {
     "end_time": "2023-09-30T04:06:17.415241Z",
     "start_time": "2023-09-30T04:06:17.381466Z"
    }
   },
   "id": "e4665da3ef66cd98"
  },
  {
   "cell_type": "markdown",
   "source": [
    "**Uniform Scale**"
   ],
   "metadata": {
    "collapsed": false
   },
   "id": "c00b4041dcba5d02"
  },
  {
   "cell_type": "code",
   "execution_count": 117,
   "outputs": [
    {
     "data": {
      "text/plain": "(array([[600., 600., 300.],\n        [600., 600., 100.],\n        [400., 600., 300.],\n        [400., 600., 100.],\n        [600., 400., 300.],\n        [600., 400., 100.],\n        [400., 400., 300.],\n        [400., 400., 100.]]),\n array([500., 500., 200.]))"
     },
     "execution_count": 117,
     "metadata": {},
     "output_type": "execute_result"
    }
   ],
   "source": [
    "t.uniform_scale(center, vertices, 2)\n",
    "render(screen, vertices, faces, screen_height, camera_location)\n",
    "vertices, center"
   ],
   "metadata": {
    "collapsed": false,
    "ExecuteTime": {
     "end_time": "2023-09-30T04:06:33.584592Z",
     "start_time": "2023-09-30T04:06:33.567963Z"
    }
   },
   "id": "256ec623f78bff"
  },
  {
   "cell_type": "code",
   "execution_count": 118,
   "outputs": [
    {
     "data": {
      "text/plain": "(array([[550., 550., 250.],\n        [550., 550., 150.],\n        [450., 550., 250.],\n        [450., 550., 150.],\n        [550., 450., 250.],\n        [550., 450., 150.],\n        [450., 450., 250.],\n        [450., 450., 150.]]),\n array([500., 500., 200.]))"
     },
     "execution_count": 118,
     "metadata": {},
     "output_type": "execute_result"
    }
   ],
   "source": [
    "t.uniform_scale(center, vertices, 0.5)\n",
    "render(screen, vertices, faces, screen_height, camera_location)\n",
    "vertices, center"
   ],
   "metadata": {
    "collapsed": false,
    "ExecuteTime": {
     "end_time": "2023-09-30T04:06:40.873640Z",
     "start_time": "2023-09-30T04:06:40.862930Z"
    }
   },
   "id": "4d9e4ee6398286a1"
  },
  {
   "cell_type": "markdown",
   "source": [
    "**Rotation**"
   ],
   "metadata": {
    "collapsed": false
   },
   "id": "f244134c6765387"
  },
  {
   "cell_type": "code",
   "execution_count": 119,
   "outputs": [
    {
     "data": {
      "text/plain": "(array([[532.1019761 , 550.        , 263.00367553],\n        [563.00367553, 550.        , 167.8980239 ],\n        [436.99632447, 550.        , 232.1019761 ],\n        [467.8980239 , 550.        , 136.99632447],\n        [532.1019761 , 450.        , 263.00367553],\n        [563.00367553, 450.        , 167.8980239 ],\n        [436.99632447, 450.        , 232.1019761 ],\n        [467.8980239 , 450.        , 136.99632447]]),\n array([500., 500., 200.]))"
     },
     "execution_count": 119,
     "metadata": {},
     "output_type": "execute_result"
    }
   ],
   "source": [
    "t.rotation_about_y(center, vertices, np.pi / 10)\n",
    "render(screen, vertices, faces, screen_height, camera_location)\n",
    "vertices, center"
   ],
   "metadata": {
    "collapsed": false,
    "ExecuteTime": {
     "end_time": "2023-09-30T04:14:58.488462Z",
     "start_time": "2023-09-30T04:14:58.455896Z"
    }
   },
   "id": "25497296cd11a1ae"
  },
  {
   "cell_type": "code",
   "execution_count": 120,
   "outputs": [
    {
     "data": {
      "text/plain": "(array([[521.85080122, 550.        , 267.2498512 ],\n        [567.2498512 , 550.        , 178.14919878],\n        [432.7501488 , 550.        , 221.85080122],\n        [478.14919878, 550.        , 132.7501488 ],\n        [521.85080122, 450.        , 267.2498512 ],\n        [567.2498512 , 450.        , 178.14919878],\n        [432.7501488 , 450.        , 221.85080122],\n        [478.14919878, 450.        , 132.7501488 ]]),\n array([500., 500., 200.]))"
     },
     "execution_count": 120,
     "metadata": {},
     "output_type": "execute_result"
    }
   ],
   "source": [
    "t.rotation_about_y(center, vertices, np.pi / 20)\n",
    "render(screen, vertices, faces, screen_height, camera_location)\n",
    "vertices, center"
   ],
   "metadata": {
    "collapsed": false,
    "ExecuteTime": {
     "end_time": "2023-09-30T04:15:25.611002Z",
     "start_time": "2023-09-30T04:15:25.576703Z"
    }
   },
   "id": "af725e64d1818fe3"
  },
  {
   "cell_type": "code",
   "execution_count": 121,
   "outputs": [
    {
     "data": {
      "text/plain": "(array([[507.39127852, 550.        , 270.32331763],\n        [570.32331763, 550.        , 192.60872148],\n        [429.67668237, 550.        , 207.39127852],\n        [492.60872148, 550.        , 129.67668237],\n        [507.39127852, 450.        , 270.32331763],\n        [570.32331763, 450.        , 192.60872148],\n        [429.67668237, 450.        , 207.39127852],\n        [492.60872148, 450.        , 129.67668237]]),\n array([500., 500., 200.]))"
     },
     "execution_count": 121,
     "metadata": {},
     "output_type": "execute_result"
    }
   ],
   "source": [
    "t.rotation_about_y(center, vertices, np.pi / 15)\n",
    "render(screen, vertices, faces, screen_height, camera_location)\n",
    "vertices, center"
   ],
   "metadata": {
    "collapsed": false,
    "ExecuteTime": {
     "end_time": "2023-09-30T04:15:38.707862Z",
     "start_time": "2023-09-30T04:15:38.562107Z"
    }
   },
   "id": "8e89512316b31b15"
  },
  {
   "cell_type": "code",
   "execution_count": 122,
   "outputs": [
    {
     "data": {
      "text/plain": "(array([[528.76062385, 550.        , 264.5974188 ],\n        [564.5974188 , 550.        , 171.23937615],\n        [435.4025812 , 550.        , 228.76062385],\n        [471.23937615, 550.        , 135.4025812 ],\n        [528.76062385, 450.        , 264.5974188 ],\n        [564.5974188 , 450.        , 171.23937615],\n        [435.4025812 , 450.        , 228.76062385],\n        [471.23937615, 450.        , 135.4025812 ]]),\n array([500., 500., 200.]))"
     },
     "execution_count": 122,
     "metadata": {},
     "output_type": "execute_result"
    }
   ],
   "source": [
    "t.rotation_about_y(center, vertices, - np.pi / 10)\n",
    "render(screen, vertices, faces, screen_height, camera_location)\n",
    "vertices, center"
   ],
   "metadata": {
    "collapsed": false,
    "ExecuteTime": {
     "end_time": "2023-09-30T04:16:01.898163Z",
     "start_time": "2023-09-30T04:16:01.859410Z"
    }
   },
   "id": "6f7c770a4d973fc6"
  },
  {
   "cell_type": "code",
   "execution_count": 123,
   "outputs": [
    {
     "data": {
      "text/plain": "(array([[547.31467893, 550.        , 252.54827455],\n        [552.54827455, 550.        , 152.68532107],\n        [447.45172545, 550.        , 247.31467893],\n        [452.68532107, 550.        , 147.45172545],\n        [547.31467893, 450.        , 252.54827455],\n        [552.54827455, 450.        , 152.68532107],\n        [447.45172545, 450.        , 247.31467893],\n        [452.68532107, 450.        , 147.45172545]]),\n array([500., 500., 200.]))"
     },
     "execution_count": 123,
     "metadata": {},
     "output_type": "execute_result"
    }
   ],
   "source": [
    "t.rotation_about_y(center, vertices, - np.pi / 10)\n",
    "render(screen, vertices, faces, screen_height, camera_location)\n",
    "vertices, center"
   ],
   "metadata": {
    "collapsed": false,
    "ExecuteTime": {
     "end_time": "2023-09-30T04:16:09.697111Z",
     "start_time": "2023-09-30T04:16:09.663332Z"
    }
   },
   "id": "5ed68a542dcf0020"
  },
  {
   "cell_type": "code",
   "execution_count": null,
   "outputs": [],
   "source": [],
   "metadata": {
    "collapsed": false
   },
   "id": "82fa91778e3c13be"
  }
 ],
 "metadata": {
  "kernelspec": {
   "display_name": "Python 3",
   "language": "python",
   "name": "python3"
  },
  "language_info": {
   "codemirror_mode": {
    "name": "ipython",
    "version": 2
   },
   "file_extension": ".py",
   "mimetype": "text/x-python",
   "name": "python",
   "nbconvert_exporter": "python",
   "pygments_lexer": "ipython2",
   "version": "2.7.6"
  }
 },
 "nbformat": 4,
 "nbformat_minor": 5
}
