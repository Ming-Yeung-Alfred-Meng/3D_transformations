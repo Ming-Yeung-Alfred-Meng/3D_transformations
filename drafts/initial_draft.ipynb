{
 "cells": [
  {
   "cell_type": "code",
   "execution_count": null,
   "id": "initial_id",
   "metadata": {
    "collapsed": true
   },
   "outputs": [],
   "source": [
    "import pygame \n",
    "import numpy as np\n",
    "import sys\n",
    "from typing import Tuple"
   ]
  },
  {
   "cell_type": "code",
   "execution_count": null,
   "outputs": [],
   "source": [
    "def cartesian_to_pygame(window_height: int, coordinates: Tuple[float, float]) -> Tuple[float, float]:\n",
    "    return coordinates[0], window_height - coordinates[1]\n",
    "\n",
    "def homogeneous_coordinates(vertices):\n",
    "    return np.concatenate((vertices, np.ones((vertices.shape[0], 1))), axis=1)\n",
    "\n",
    "def homogeneous_to_cartesian(vertices: np.ndarray):\n",
    "    return vertices[:, 0:-1] / vertices[:, -1][:, None]"
   ],
   "metadata": {
    "collapsed": false
   },
   "id": "66442247dcdd6e96"
  },
  {
   "cell_type": "code",
   "execution_count": null,
   "outputs": [],
   "source": [
    "def rotation():\n",
    "    pass\n",
    "\n",
    "def horizontal_translation(vertices, step):\n",
    "    vertices = homogeneous_coordinates(vertices)\n",
    "    result = vertices @ np.array([[1, 0, 0, 0],\n",
    "                                [0, 1, 0, 0],\n",
    "                                [0, 0, 1, 0],\n",
    "                                [step, 0, 0, 1]])\n",
    "    return homogeneous_to_cartesian(result)\n",
    "\n",
    "def scale():\n",
    "    pass\n",
    "\n",
    "def perspective_projection(vertices):\n",
    "    return vertices @ np.array([[-camera_location[2], 0, 0], \n",
    "                                [0, -camera_location[2], 0], \n",
    "                                [camera_location[0], camera_location[1], 1], \n",
    "                                [0, 0, -camera_location[2]]])\n",
    "\n",
    "def orthographic_projection(vertices):\n",
    "    return vertices[:, 0:2]"
   ],
   "metadata": {
    "collapsed": false
   },
   "id": "941f485d503d99f6"
  },
  {
   "cell_type": "code",
   "execution_count": null,
   "outputs": [],
   "source": [
    "screen_width = 800\n",
    "screen_height = 800\n",
    "center = np.array([400, 400, 200])\n",
    "half_width = 50\n",
    "half_height = 50\n",
    "half_depth = 50\n",
    "camera_location = np.array([400, 400, -200])"
   ],
   "metadata": {
    "collapsed": false
   },
   "id": "27303e8fbcf9307f"
  },
  {
   "cell_type": "code",
   "execution_count": null,
   "outputs": [],
   "source": [
    "x, y, z = np.meshgrid((center[0] + half_width, center[0] - half_width), \n",
    "                      (center[1] + half_height, center[1] - half_height), \n",
    "                      (center[2] + half_depth, center[2] - half_depth), copy=True)\n",
    "\n",
    "vertices = np.column_stack((x.flatten(), y.flatten(), z.flatten()))\n",
    "faces = np.array([[0, 4, 6, 2],\n",
    "                  [1, 3, 7, 5],\n",
    "                  [0, 2, 3, 1], \n",
    "                  [0, 1, 5, 4], \n",
    "                  [1, 3, 7, 5],\n",
    "                  [2, 6, 7, 3]])\n",
    "vertices, faces"
   ],
   "metadata": {
    "collapsed": false
   },
   "id": "b467e0041906b571"
  },
  {
   "cell_type": "code",
   "execution_count": null,
   "outputs": [],
   "source": [
    "translated_vertices = horizontal_translation(vertices, 100)\n",
    "translated_vertices"
   ],
   "metadata": {
    "collapsed": false
   },
   "id": "733ed07a64b9d75e"
  },
  {
   "cell_type": "code",
   "execution_count": null,
   "outputs": [],
   "source": [
    "projected_vertices = orthographic_projection(translated_vertices)\n",
    "projected_vertices"
   ],
   "metadata": {
    "collapsed": false
   },
   "id": "eeceb9e782193c6c"
  },
  {
   "cell_type": "code",
   "execution_count": null,
   "outputs": [],
   "source": [
    "pygame.init()\n",
    "\n",
    "screen = pygame.display.set_mode((screen_width, screen_height))\n",
    "\n",
    "screen.fill((255, 255, 255))\n",
    "\n",
    "for face in faces:\n",
    "    for i in range(face.shape[0]):\n",
    "        pygame.draw.aaline(screen, (0, 0, 0), \n",
    "                           projected_vertices[face[i]], \n",
    "                           projected_vertices[face[(i + 1) % face.shape[0]]])\n",
    "\n",
    "pygame.display.update()\n",
    "    "
   ],
   "metadata": {
    "collapsed": false
   },
   "id": "122d4be28d75da5f"
  },
  {
   "cell_type": "code",
   "execution_count": 29,
   "outputs": [
    {
     "ename": "AssertionError",
     "evalue": "",
     "output_type": "error",
     "traceback": [
      "\u001B[0;31m---------------------------------------------------------------------------\u001B[0m",
      "\u001B[0;31mAssertionError\u001B[0m                            Traceback (most recent call last)",
      "Cell \u001B[0;32mIn[29], line 1\u001B[0m\n\u001B[0;32m----> 1\u001B[0m \u001B[38;5;28;01massert\u001B[39;00m \u001B[38;5;241m1\u001B[39m \u001B[38;5;241m==\u001B[39m \u001B[38;5;241m2\u001B[39m\n",
      "\u001B[0;31mAssertionError\u001B[0m: "
     ]
    }
   ],
   "source": [
    "assert 1 == 2"
   ],
   "metadata": {
    "collapsed": false,
    "ExecuteTime": {
     "end_time": "2023-09-29T22:06:53.739361Z",
     "start_time": "2023-09-29T22:06:53.600667Z"
    }
   },
   "id": "1279e2972ced695e"
  },
  {
   "cell_type": "code",
   "execution_count": null,
   "outputs": [],
   "source": [],
   "metadata": {
    "collapsed": false
   },
   "id": "1b2d798a14b53805"
  },
  {
   "cell_type": "code",
   "execution_count": null,
   "outputs": [],
   "source": [],
   "metadata": {
    "collapsed": false
   },
   "id": "804891506d4926d3"
  },
  {
   "cell_type": "markdown",
   "source": [],
   "metadata": {
    "collapsed": false
   },
   "id": "eebecb45e76b1e1f"
  }
 ],
 "metadata": {
  "kernelspec": {
   "display_name": "Python 3",
   "language": "python",
   "name": "python3"
  },
  "language_info": {
   "codemirror_mode": {
    "name": "ipython",
    "version": 2
   },
   "file_extension": ".py",
   "mimetype": "text/x-python",
   "name": "python",
   "nbconvert_exporter": "python",
   "pygments_lexer": "ipython2",
   "version": "2.7.6"
  }
 },
 "nbformat": 4,
 "nbformat_minor": 5
}
