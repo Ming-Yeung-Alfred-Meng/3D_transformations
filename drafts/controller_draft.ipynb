{
 "cells": [
  {
   "cell_type": "code",
   "execution_count": 28,
   "id": "initial_id",
   "metadata": {
    "collapsed": true,
    "ExecuteTime": {
     "end_time": "2023-09-30T19:50:51.148046Z",
     "start_time": "2023-09-30T19:50:51.129662Z"
    }
   },
   "outputs": [],
   "source": [
    "import numpy as np\n",
    "import sys\n",
    "import pygame\n",
    "import importlib\n",
    "import src.simulation as sim\n",
    "import src.transformations as t\n",
    "import src.change_of_coordinates as coc\n",
    "from typing import Callable, Union, Dict, Tuple"
   ]
  },
  {
   "cell_type": "code",
   "execution_count": 2,
   "outputs": [
    {
     "data": {
      "text/plain": "<module 'src.simulation' from '/Users/alfred/Documents/affine_transformations/src/simulation.py'>"
     },
     "execution_count": 2,
     "metadata": {},
     "output_type": "execute_result"
    }
   ],
   "source": [
    "importlib.reload(sim)"
   ],
   "metadata": {
    "collapsed": false,
    "ExecuteTime": {
     "end_time": "2023-09-30T17:38:48.412078Z",
     "start_time": "2023-09-30T17:38:48.205701Z"
    }
   },
   "id": "f669a781f5369edd"
  },
  {
   "cell_type": "code",
   "execution_count": 3,
   "outputs": [
    {
     "data": {
      "text/plain": "<module 'src.transformations' from '/Users/alfred/Documents/affine_transformations/src/transformations.py'>"
     },
     "execution_count": 3,
     "metadata": {},
     "output_type": "execute_result"
    }
   ],
   "source": [
    "importlib.reload(t)"
   ],
   "metadata": {
    "collapsed": false,
    "ExecuteTime": {
     "end_time": "2023-09-30T17:38:48.502424Z",
     "start_time": "2023-09-30T17:38:48.236051Z"
    }
   },
   "id": "18b2f56bf29439f3"
  },
  {
   "cell_type": "code",
   "execution_count": 4,
   "outputs": [
    {
     "data": {
      "text/plain": "<module 'src.change_of_coordinates' from '/Users/alfred/Documents/affine_transformations/src/change_of_coordinates.py'>"
     },
     "execution_count": 4,
     "metadata": {},
     "output_type": "execute_result"
    }
   ],
   "source": [
    "importlib.reload(coc)"
   ],
   "metadata": {
    "collapsed": false,
    "ExecuteTime": {
     "end_time": "2023-09-30T17:38:48.504881Z",
     "start_time": "2023-09-30T17:38:48.256166Z"
    }
   },
   "id": "129761a6ea17f9be"
  },
  {
   "cell_type": "code",
   "execution_count": 29,
   "outputs": [],
   "source": [
    "def projection(choice: int, \n",
    "               camera_location: np.ndarray) -> Callable[[np.ndarray], np.ndarray]:\n",
    "    \"\"\"\n",
    "    Return a projection function based on 'choice'.\n",
    "    :param choice: 0 for perspective projection, 1 for orthographic projection\n",
    "    :param camera_location: 3D vector of camera center\n",
    "    :return: a projection function that takes v x 3 matrix of vertices as input and output v x 2 matrix of projected vertices\n",
    "    \"\"\"\n",
    "    assert choice == 0 or choice == 1\n",
    "    assert len(camera_location.shape) == 1\n",
    "    assert len(camera_location) == 3\n",
    "    assert camera_location.dtype == np.float64\n",
    "    \n",
    "    if choice == 0:\n",
    "        def perspective_projection(vertices: np.ndarray) -> np.ndarray:\n",
    "            return sim.perspective_projection(camera_location, vertices)\n",
    "    \n",
    "        return perspective_projection\n",
    "    \n",
    "    elif choice == 1:\n",
    "        return sim.orthographic_projection\n",
    "\n",
    "\n",
    "def render(screen: pygame.Surface, \n",
    "           vertices: np.ndarray, \n",
    "           faces: np.ndarray, \n",
    "           screen_height: Union[int, float], \n",
    "           projection: Callable[[np.ndarray], np.ndarray]) -> None:\n",
    "    \"\"\"\n",
    "    Render the environment in which the object 'vertices' and 'faces' represent.\n",
    "    :param screen: PyGame display window\n",
    "    :param vertices: v x 3 matrix of vertices\n",
    "    :param faces: f x 4 matrix of face indices\n",
    "    :param screen_height: height of the PyGame display window\n",
    "    :param projection: a function that project 'vertices' onto 'screen'. Takes v x 3 matrix of vertices and outputs v x 2 matrix of projected vertices\n",
    "    :return: None\n",
    "    \"\"\"\n",
    "    screen.fill((255, 255, 255))\n",
    "\n",
    "    sim.draw_wireframe(screen, projection(vertices), faces, screen_height)\n",
    "    \n",
    "    pygame.display.update()\n",
    "    \n",
    "    \n",
    "def control(key_to_action: Dict[int, Tuple[Callable, Tuple]]) -> None:\n",
    "    \"\"\"\n",
    "    Execute the associated function when a key is pressed.\n",
    "    :param key_to_action: A dictionary where keys are PyGame keys and values are tuples where the first element is the function to execute, and the second is a tuple of arguments into the function.\n",
    "    :return: None\n",
    "    \"\"\"\n",
    "    for key, action in key_to_action.items():\n",
    "        if pygame.key.get_pressed()[key]:\n",
    "            action[0](*action[1])\n",
    "    "
   ],
   "metadata": {
    "collapsed": false,
    "ExecuteTime": {
     "end_time": "2023-09-30T19:50:54.136201Z",
     "start_time": "2023-09-30T19:50:54.113463Z"
    }
   },
   "id": "fadb550b71c6182a"
  },
  {
   "cell_type": "code",
   "execution_count": 4,
   "outputs": [],
   "source": [
    "screen_width = 800\n",
    "screen_height = 800\n",
    "center = np.array([400., 400., 400.])\n",
    "camera_location = np.array([400., 400., -100.])"
   ],
   "metadata": {
    "collapsed": false,
    "ExecuteTime": {
     "end_time": "2023-09-30T18:25:09.779146Z",
     "start_time": "2023-09-30T18:25:09.748828Z"
    }
   },
   "id": "3ba4cbbb0ed9d25b"
  },
  {
   "cell_type": "code",
   "execution_count": 14,
   "outputs": [
    {
     "data": {
      "text/plain": "(array([[450., 450., 450.],\n        [450., 450., 350.],\n        [350., 450., 450.],\n        [350., 450., 350.],\n        [450., 350., 450.],\n        [450., 350., 350.],\n        [350., 350., 450.],\n        [350., 350., 350.]]),\n array([[0, 4, 6, 2],\n        [1, 3, 7, 5],\n        [0, 2, 3, 1],\n        [0, 1, 5, 4],\n        [1, 3, 7, 5],\n        [2, 6, 7, 3]]))"
     },
     "execution_count": 14,
     "metadata": {},
     "output_type": "execute_result"
    }
   ],
   "source": [
    "vertices, faces = sim.init_cuboid(center, 50, 50, 50)\n",
    "vertices, faces"
   ],
   "metadata": {
    "collapsed": false,
    "ExecuteTime": {
     "end_time": "2023-09-30T18:34:07.305694Z",
     "start_time": "2023-09-30T18:34:07.279718Z"
    }
   },
   "id": "2521485a7e6bbb38"
  },
  {
   "cell_type": "code",
   "execution_count": 35,
   "outputs": [
    {
     "ename": "SystemExit",
     "evalue": "0",
     "output_type": "error",
     "traceback": [
      "An exception has occurred, use %tb to see the full traceback.\n",
      "\u001B[0;31mSystemExit\u001B[0m\u001B[0;31m:\u001B[0m 0\n"
     ]
    }
   ],
   "source": [
    "pygame.init()\n",
    "\n",
    "screen = pygame.display.set_mode((screen_width, screen_height))\n",
    "pygame.display.set_caption('Affine Transformations')\n",
    "\n",
    "translation_controls = {pygame.K_LEFT: (t.rotation_about_y, (center, vertices, - np.pi / 80)),\n",
    "                        pygame.K_RIGHT: (t.rotation_about_y, (center, vertices, np.pi / 80)),\n",
    "                        pygame.K_UP: (t.rotation_about_x, (center, vertices, - np.pi / 80)),\n",
    "                        pygame.K_DOWN: (t.rotation_about_x, (center, vertices, np.pi / 80)),\n",
    "                        pygame.K_a: (t.rotation_about_z, (center, vertices, - np.pi / 80)),\n",
    "                        pygame.K_d: (t.rotation_about_z, (center, vertices, np.pi / 80))}\n",
    "\n",
    "rotation_controls = {pygame.K_LEFT: (t.translation, (center, vertices, - 5, 0)),\n",
    "                     pygame.K_RIGHT: ( t.translation, (center, vertices, 5, 0)),\n",
    "                     pygame.K_UP: (t.translation, (center, vertices, 5, 1)),\n",
    "                     pygame.K_DOWN: (t.translation, (center, vertices, - 5, 1)),\n",
    "                     pygame.K_w: (t.translation, (center, vertices, 5, 2)),\n",
    "                     pygame.K_s: (t.translation, (center, vertices, - 5, 2))}\n",
    "\n",
    "uniform_scale_controls = {pygame.K_n: (t.uniform_scale, (center, vertices, 0.9)),\n",
    "                          pygame.K_m: (t.uniform_scale, (center, vertices, 1.1))}\n",
    "\n",
    "running = True\n",
    "while running:\n",
    "    for event in pygame.event.get():\n",
    "        if event.type == pygame.QUIT:\n",
    "            running = False\n",
    "\n",
    "    if pygame.key.get_pressed()[pygame.K_LSHIFT] or pygame.key.get_pressed()[pygame.K_RSHIFT]:\n",
    "        control(translation_controls)\n",
    "            \n",
    "    else:\n",
    "        control(rotation_controls)\n",
    "        control(uniform_scale_controls)\n",
    "            \n",
    "    render(screen, vertices, faces, screen_height, projection(0, camera_location))\n",
    "\n",
    "pygame.quit()\n",
    "sys.exit(0)\n"
   ],
   "metadata": {
    "collapsed": false,
    "ExecuteTime": {
     "end_time": "2023-09-30T20:06:06.301856Z",
     "start_time": "2023-09-30T20:05:36.417012Z"
    }
   },
   "id": "9e70c0655305e162"
  },
  {
   "cell_type": "code",
   "execution_count": null,
   "outputs": [],
   "source": [],
   "metadata": {
    "collapsed": false
   },
   "id": "3df2787c9a63be81"
  }
 ],
 "metadata": {
  "kernelspec": {
   "display_name": "Python 3",
   "language": "python",
   "name": "python3"
  },
  "language_info": {
   "codemirror_mode": {
    "name": "ipython",
    "version": 2
   },
   "file_extension": ".py",
   "mimetype": "text/x-python",
   "name": "python",
   "nbconvert_exporter": "python",
   "pygments_lexer": "ipython2",
   "version": "2.7.6"
  }
 },
 "nbformat": 4,
 "nbformat_minor": 5
}
