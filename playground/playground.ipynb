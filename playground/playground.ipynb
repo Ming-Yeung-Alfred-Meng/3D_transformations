{
 "cells": [
  {
   "cell_type": "code",
   "execution_count": 17,
   "id": "initial_id",
   "metadata": {
    "collapsed": true,
    "ExecuteTime": {
     "end_time": "2023-09-28T23:10:30.845973Z",
     "start_time": "2023-09-28T23:10:30.829005Z"
    }
   },
   "outputs": [],
   "source": [
    "import pygame \n",
    "import numpy as np\n",
    "import sys\n",
    "from typing import Tuple"
   ]
  },
  {
   "cell_type": "code",
   "execution_count": 13,
   "outputs": [],
   "source": [
    "def cartesian_to_pygame(window_height: int, coordinates: Tuple[float, float]) -> Tuple[float, float]:\n",
    "    return coordinates[0], window_height - coordinates[1]"
   ],
   "metadata": {
    "collapsed": false,
    "ExecuteTime": {
     "end_time": "2023-09-28T22:56:21.915486Z",
     "start_time": "2023-09-28T22:56:21.904558Z"
    }
   },
   "id": "66442247dcdd6e96"
  },
  {
   "cell_type": "code",
   "execution_count": null,
   "outputs": [],
   "source": [
    "def rotation():\n",
    "    pass\n",
    "\n",
    "def translation():\n",
    "    pass\n",
    "\n",
    "def scale():\n",
    "    pass\n",
    "\n",
    "def init_cube(center, half_width, half_height, half_depth):\n",
    "    x, y, z = np.meshgrid((center[0] + half_width, center[0] - half_width), \n",
    "                          (center[1] + half_height, center[1] - half_height), \n",
    "                          (center[2] + half_depth, center[2] - half_depth), copy=True)\n",
    "    \n",
    "    return (np.column_stack((x.flatten(), y.flatten(), z.flatten())),\n",
    "            np.array([[0, 4, 6, 2],\n",
    "                      [1, 3, 7, 5],\n",
    "                      [0, 2, 3, 1], \n",
    "                      [0, 1, 5, 4], \n",
    "                      [1, 3, 7, 5],  \n",
    "                      [2, 6, 7, 3]]))\n",
    "\n",
    "\n",
    "def project_onto_screen(camera_location, vertices):\n",
    "    assert len(vertices.shape) == 2, \"Dimension of the array of vertices must be 2.\"\n",
    "    assert len(vertices.shape[1]) == 4, \"Second dimension of the array of vertices must be 4.\"\n",
    "    \n",
    "    return vertices @ np.array([[-camera_location[2], 0, 0], \n",
    "                                [0, -camera_location[2], 0], \n",
    "                                [camera_location[0], camera_location[1], 1], \n",
    "                                [0, 0, -camera_location[2]]])\n",
    "\n",
    "\n",
    "def draw_cuboid(screen, vertices, faces, screen_height):\n",
    "    for face in faces:\n",
    "        for i in range(face.shape[0]):\n",
    "            pygame.draw.aaline(screen, (0, 0, 0), \n",
    "                               cartesian_to_pygame(screen_height, vertices[face[i]]), \n",
    "                               cartesian_to_pygame(screen_height, vertices[face[(i + 1) % face.shape[0]]]))\n",
    "\n",
    "\n",
    "def homogeneous_coordinates(vertices):\n",
    "    return np.concatenate((vertices, np.ones((vertices.shape[0], 1))), axis=1)\n",
    "\n",
    "\n",
    "def start_environment(screen_width, screen_height, vertices, faces):\n",
    "    vertices = homogeneous_coordinates(vertices)\n",
    "\n",
    "    screen_vertices = project_onto_screen(vertices)\n",
    "    \n",
    "    pygame.init()\n",
    "    \n",
    "    screen = pygame.display.set_mode((screen_width, screen_height))\n",
    "    \n",
    "    screen.fill((255, 255, 255))\n",
    "    \n",
    "    draw_cuboid(screen, screen_vertices, faces, screen_height)\n",
    "    \n",
    "    pygame.display.update()\n",
    "\n",
    "\n",
    "def run(screen_width, screen_height):\n",
    "    vertices, faces = init_cube((300, 300, 300), 50, 50, 50)\n",
    "    start_environment(screen_width, screen_height, vertices, faces)\n",
    "    "
   ],
   "metadata": {
    "collapsed": false
   },
   "id": "122d4be28d75da5f"
  },
  {
   "cell_type": "code",
   "execution_count": 16,
   "outputs": [],
   "source": [],
   "metadata": {
    "collapsed": false,
    "ExecuteTime": {
     "end_time": "2023-09-28T22:56:41.369125Z",
     "start_time": "2023-09-28T22:56:41.356742Z"
    }
   },
   "id": "1279e2972ced695e"
  },
  {
   "cell_type": "code",
   "execution_count": 9,
   "outputs": [],
   "source": [],
   "metadata": {
    "collapsed": false,
    "ExecuteTime": {
     "end_time": "2023-09-28T22:45:51.921796Z",
     "start_time": "2023-09-28T22:45:51.895820Z"
    }
   },
   "id": "1b2d798a14b53805"
  },
  {
   "cell_type": "code",
   "execution_count": 6,
   "outputs": [
    {
     "ename": "SystemExit",
     "evalue": "",
     "output_type": "error",
     "traceback": [
      "An exception has occurred, use %tb to see the full traceback.\n",
      "\u001B[0;31mSystemExit\u001B[0m\n"
     ]
    },
    {
     "name": "stderr",
     "output_type": "stream",
     "text": [
      "/opt/miniconda3/envs/affine_transformations/lib/python3.11/site-packages/IPython/core/interactiveshell.py:3534: UserWarning: To exit: use 'exit', 'quit', or Ctrl-D.\n",
      "  warn(\"To exit: use 'exit', 'quit', or Ctrl-D.\", stacklevel=1)\n"
     ]
    }
   ],
   "source": [],
   "metadata": {
    "collapsed": false,
    "ExecuteTime": {
     "end_time": "2023-09-28T22:38:57.998371Z",
     "start_time": "2023-09-28T22:38:57.971069Z"
    }
   },
   "id": "804891506d4926d3"
  },
  {
   "cell_type": "markdown",
   "source": [],
   "metadata": {
    "collapsed": false
   },
   "id": "eebecb45e76b1e1f"
  }
 ],
 "metadata": {
  "kernelspec": {
   "display_name": "Python 3",
   "language": "python",
   "name": "python3"
  },
  "language_info": {
   "codemirror_mode": {
    "name": "ipython",
    "version": 2
   },
   "file_extension": ".py",
   "mimetype": "text/x-python",
   "name": "python",
   "nbconvert_exporter": "python",
   "pygments_lexer": "ipython2",
   "version": "2.7.6"
  }
 },
 "nbformat": 4,
 "nbformat_minor": 5
}
