{
 "cells": [
  {
   "cell_type": "code",
   "execution_count": 2,
   "id": "initial_id",
   "metadata": {
    "collapsed": true,
    "ExecuteTime": {
     "end_time": "2023-09-29T09:09:41.490650Z",
     "start_time": "2023-09-29T09:09:34.882716Z"
    }
   },
   "outputs": [
    {
     "name": "stdout",
     "output_type": "stream",
     "text": [
      "pygame 2.5.2 (SDL 2.28.3, Python 3.11.5)\n",
      "Hello from the pygame community. https://www.pygame.org/contribute.html\n"
     ]
    }
   ],
   "source": [
    "import pygame \n",
    "import numpy as np\n",
    "import sys\n",
    "from typing import Tuple"
   ]
  },
  {
   "cell_type": "code",
   "execution_count": 3,
   "outputs": [],
   "source": [
    "def cartesian_to_pygame(window_height: int, coordinates: Tuple[float, float]) -> Tuple[float, float]:\n",
    "    return coordinates[0], window_height - coordinates[1]\n",
    "\n",
    "def homogeneous_coordinates(vertices):\n",
    "    return np.concatenate((vertices, np.ones((vertices.shape[0], 1))), axis=1)\n",
    "\n",
    "def homogeneous_to_cartesian(vertices: np.ndarray):\n",
    "    return vertices[:, 0:-1] / vertices[:, -1][:, None]"
   ],
   "metadata": {
    "collapsed": false,
    "ExecuteTime": {
     "end_time": "2023-09-29T09:09:44.262766Z",
     "start_time": "2023-09-29T09:09:44.246248Z"
    }
   },
   "id": "66442247dcdd6e96"
  },
  {
   "cell_type": "code",
   "execution_count": 21,
   "outputs": [],
   "source": [
    "def rotation():\n",
    "    pass\n",
    "\n",
    "def horizontal_translation(vertices, step):\n",
    "    return vertices @ np.array([[1, 0, 0, 0],\n",
    "                                [0, 1, 0, 0],\n",
    "                                [0, 0, 1, 0],\n",
    "                                [step, 0, 0, 1]])\n",
    "\n",
    "def scale():\n",
    "    pass"
   ],
   "metadata": {
    "collapsed": false,
    "ExecuteTime": {
     "end_time": "2023-09-29T09:22:46.625928Z",
     "start_time": "2023-09-29T09:22:46.594583Z"
    }
   },
   "id": "941f485d503d99f6"
  },
  {
   "cell_type": "code",
   "execution_count": 5,
   "outputs": [],
   "source": [
    "screen_width = 800\n",
    "screen_height = 800\n",
    "center = np.array([400, 400, 400])\n",
    "half_width = 50\n",
    "half_height = 50\n",
    "half_depth = 50\n",
    "camera_location = np.array([400, 400, 200])"
   ],
   "metadata": {
    "collapsed": false,
    "ExecuteTime": {
     "end_time": "2023-09-29T09:09:45.624180Z",
     "start_time": "2023-09-29T09:09:45.578646Z"
    }
   },
   "id": "27303e8fbcf9307f"
  },
  {
   "cell_type": "code",
   "execution_count": 13,
   "outputs": [
    {
     "data": {
      "text/plain": "(array([[450, 450, 450],\n        [450, 450, 350],\n        [350, 450, 450],\n        [350, 450, 350],\n        [450, 350, 450],\n        [450, 350, 350],\n        [350, 350, 450],\n        [350, 350, 350]]),\n array([[0, 4, 6, 2],\n        [1, 3, 7, 5],\n        [0, 2, 3, 1],\n        [0, 1, 5, 4],\n        [1, 3, 7, 5],\n        [2, 6, 7, 3]]))"
     },
     "execution_count": 13,
     "metadata": {},
     "output_type": "execute_result"
    }
   ],
   "source": [
    "x, y, z = np.meshgrid((center[0] + half_width, center[0] - half_width), \n",
    "                      (center[1] + half_height, center[1] - half_height), \n",
    "                      (center[2] + half_depth, center[2] - half_depth), copy=True)\n",
    "\n",
    "vertices = np.column_stack((x.flatten(), y.flatten(), z.flatten()))\n",
    "faces = np.array([[0, 4, 6, 2],\n",
    "                  [1, 3, 7, 5],\n",
    "                  [0, 2, 3, 1], \n",
    "                  [0, 1, 5, 4], \n",
    "                  [1, 3, 7, 5],\n",
    "                  [2, 6, 7, 3]])\n",
    "vertices, faces"
   ],
   "metadata": {
    "collapsed": false,
    "ExecuteTime": {
     "end_time": "2023-09-29T09:15:01.418711Z",
     "start_time": "2023-09-29T09:15:01.318498Z"
    }
   },
   "id": "b467e0041906b571"
  },
  {
   "cell_type": "code",
   "execution_count": 14,
   "outputs": [
    {
     "data": {
      "text/plain": "array([[450., 450., 450.,   1.],\n       [450., 450., 350.,   1.],\n       [350., 450., 450.,   1.],\n       [350., 450., 350.,   1.],\n       [450., 350., 450.,   1.],\n       [450., 350., 350.,   1.],\n       [350., 350., 450.,   1.],\n       [350., 350., 350.,   1.]])"
     },
     "execution_count": 14,
     "metadata": {},
     "output_type": "execute_result"
    }
   ],
   "source": [
    "homo_vertices = homogeneous_coordinates(vertices)\n",
    "homo_vertices"
   ],
   "metadata": {
    "collapsed": false,
    "ExecuteTime": {
     "end_time": "2023-09-29T09:15:02.268460Z",
     "start_time": "2023-09-29T09:15:02.189128Z"
    }
   },
   "id": "733ed07a64b9d75e"
  },
  {
   "cell_type": "code",
   "execution_count": 42,
   "outputs": [
    {
     "data": {
      "text/plain": "array([[660., 450., 450.,   1.],\n       [660., 450., 350.,   1.],\n       [560., 450., 450.,   1.],\n       [560., 450., 350.,   1.],\n       [660., 350., 450.,   1.],\n       [660., 350., 350.,   1.],\n       [560., 350., 450.,   1.],\n       [560., 350., 350.,   1.]])"
     },
     "execution_count": 42,
     "metadata": {},
     "output_type": "execute_result"
    }
   ],
   "source": [
    "homo_vertices = horizontal_translation(homo_vertices, 100)\n",
    "homo_vertices"
   ],
   "metadata": {
    "collapsed": false,
    "ExecuteTime": {
     "end_time": "2023-09-29T09:30:30.505742Z",
     "start_time": "2023-09-29T09:30:30.414156Z"
    }
   },
   "id": "dbaeb55eb74ab1db"
  },
  {
   "cell_type": "code",
   "execution_count": 43,
   "outputs": [
    {
     "data": {
      "text/plain": "array([[ 48000.,  90000.,    250.],\n       [  8000.,  50000.,    150.],\n       [ 68000.,  90000.,    250.],\n       [ 28000.,  50000.,    150.],\n       [ 48000., 110000.,    250.],\n       [  8000.,  70000.,    150.],\n       [ 68000., 110000.,    250.],\n       [ 28000.,  70000.,    150.]])"
     },
     "execution_count": 43,
     "metadata": {},
     "output_type": "execute_result"
    }
   ],
   "source": [
    "# create cuboid in 3d world space\n",
    "# project cuboid onto 2d screen\n",
    "# draw 2d projection\n",
    "\n",
    "projected_vertices = homo_vertices @ np.array([[-camera_location[2], 0, 0], \n",
    "                     [0, -camera_location[2], 0], \n",
    "                     [camera_location[0], camera_location[1], 1], \n",
    "                     [0, 0, -camera_location[2]]])\n",
    "projected_vertices"
   ],
   "metadata": {
    "collapsed": false,
    "ExecuteTime": {
     "end_time": "2023-09-29T09:30:31.666743Z",
     "start_time": "2023-09-29T09:30:31.635737Z"
    }
   },
   "id": "16f8d57f65e11aa6"
  },
  {
   "cell_type": "code",
   "execution_count": 44,
   "outputs": [
    {
     "data": {
      "text/plain": "array([[192.        , 360.        ],\n       [ 53.33333333, 333.33333333],\n       [272.        , 360.        ],\n       [186.66666667, 333.33333333],\n       [192.        , 440.        ],\n       [ 53.33333333, 466.66666667],\n       [272.        , 440.        ],\n       [186.66666667, 466.66666667]])"
     },
     "execution_count": 44,
     "metadata": {},
     "output_type": "execute_result"
    }
   ],
   "source": [
    "projected_vertices_cartesian = homogeneous_to_cartesian(projected_vertices)\n",
    "projected_vertices_cartesian"
   ],
   "metadata": {
    "collapsed": false,
    "ExecuteTime": {
     "end_time": "2023-09-29T09:30:53.044857Z",
     "start_time": "2023-09-29T09:30:52.997508Z"
    }
   },
   "id": "574a6f0beb980828"
  },
  {
   "cell_type": "code",
   "execution_count": null,
   "outputs": [],
   "source": [
    "array([[272.        , 360.        ],\n",
    "       [186.66666667, 333.33333333],\n",
    "       [352.        , 360.        ],\n",
    "       [320.        , 333.33333333],\n",
    "       [272.        , 440.        ],\n",
    "       [186.66666667, 466.66666667],\n",
    "       [352.        , 440.        ],\n",
    "       [320.        , 466.66666667]])"
   ],
   "metadata": {
    "collapsed": false
   },
   "id": "b05bae697c000fbe"
  },
  {
   "cell_type": "code",
   "execution_count": 41,
   "outputs": [],
   "source": [
    "pygame.init()\n",
    "\n",
    "screen = pygame.display.set_mode((screen_width, screen_height))\n",
    "\n",
    "screen.fill((255, 255, 255))\n",
    "\n",
    "for face in faces:\n",
    "    for i in range(face.shape[0]):\n",
    "        pygame.draw.aaline(screen, (0, 0, 0), \n",
    "                           cartesian_to_pygame(screen_height, projected_vertices_cartesian[face[i]]), \n",
    "                           cartesian_to_pygame(screen_height, projected_vertices_cartesian[face[(i + 1) % face.shape[0]]]))\n",
    "\n",
    "pygame.display.update()\n",
    "    "
   ],
   "metadata": {
    "collapsed": false,
    "ExecuteTime": {
     "end_time": "2023-09-29T09:26:06.353661Z",
     "start_time": "2023-09-29T09:26:06.247392Z"
    }
   },
   "id": "122d4be28d75da5f"
  },
  {
   "cell_type": "code",
   "execution_count": 34,
   "outputs": [],
   "source": [
    "pygame.quit()"
   ],
   "metadata": {
    "collapsed": false,
    "ExecuteTime": {
     "end_time": "2023-09-29T09:09:08.117103Z",
     "start_time": "2023-09-29T09:09:07.907975Z"
    }
   },
   "id": "1279e2972ced695e"
  },
  {
   "cell_type": "code",
   "execution_count": 9,
   "outputs": [],
   "source": [],
   "metadata": {
    "collapsed": false,
    "ExecuteTime": {
     "end_time": "2023-09-28T22:45:51.921796Z",
     "start_time": "2023-09-28T22:45:51.895820Z"
    }
   },
   "id": "1b2d798a14b53805"
  },
  {
   "cell_type": "code",
   "execution_count": 6,
   "outputs": [
    {
     "ename": "SystemExit",
     "evalue": "",
     "output_type": "error",
     "traceback": [
      "An exception has occurred, use %tb to see the full traceback.\n",
      "\u001B[0;31mSystemExit\u001B[0m\n"
     ]
    },
    {
     "name": "stderr",
     "output_type": "stream",
     "text": [
      "/opt/miniconda3/envs/affine_transformations/lib/python3.11/site-packages/IPython/core/interactiveshell.py:3534: UserWarning: To exit: use 'exit', 'quit', or Ctrl-D.\n",
      "  warn(\"To exit: use 'exit', 'quit', or Ctrl-D.\", stacklevel=1)\n"
     ]
    }
   ],
   "source": [],
   "metadata": {
    "collapsed": false,
    "ExecuteTime": {
     "end_time": "2023-09-28T22:38:57.998371Z",
     "start_time": "2023-09-28T22:38:57.971069Z"
    }
   },
   "id": "804891506d4926d3"
  },
  {
   "cell_type": "markdown",
   "source": [],
   "metadata": {
    "collapsed": false
   },
   "id": "eebecb45e76b1e1f"
  }
 ],
 "metadata": {
  "kernelspec": {
   "display_name": "Python 3",
   "language": "python",
   "name": "python3"
  },
  "language_info": {
   "codemirror_mode": {
    "name": "ipython",
    "version": 2
   },
   "file_extension": ".py",
   "mimetype": "text/x-python",
   "name": "python",
   "nbconvert_exporter": "python",
   "pygments_lexer": "ipython2",
   "version": "2.7.6"
  }
 },
 "nbformat": 4,
 "nbformat_minor": 5
}
